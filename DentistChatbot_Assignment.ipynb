{
  "cells": [
    {
      "cell_type": "code",
      "execution_count": null,
      "metadata": {
        "id": "IoVWjsMEK6gH"
      },
      "outputs": [],
      "source": [
        "from nltk.chat.util import Chat, reflections"
      ]
    },
    {
      "cell_type": "code",
      "execution_count": null,
      "metadata": {
        "id": "IFKo80w0PXzA"
      },
      "outputs": [],
      "source": [
        "pairs = [[r\".*hi|hello|greetings.*\", [\"Hello, This is similify Dental Clinic.How can I help you?\"]],\n",
        "         [r\".*Tooth ache|Tooth pain|Tooth Decay.*\", [\"Dr. James Anderson 123 Main Street, apt 4B San Diego CA, 91911\"]],\n",
        "         [r\".*Tolerating tooth ache since two days. Can i know the timings so that I can book the appointment?*\", [\"Sure, 6am - 11pm\"]],\n",
        "         [r\".*I want to book the appointment for friday morning. Can I know the available timing slot so that I can book?*\", [\"Sure, 8am-9am, 10am-11am\"]],\n",
        "         [r\".*Ok book the appointment for 10am-11am\", [\"Sure, the appointment for friday 10am-11am is booked. For confirmation you will recieve an SMS on your mobile\"]],\n",
        "         [r\".*Yes I recived. Thank you!\", [\"Thanks for using simlify dental services. It is pleasure to serve you.\"]]\n",
        "         ]"
      ]
    },
    {
      "cell_type": "code",
      "execution_count": null,
      "metadata": {
        "id": "ZdP97ElxXIGn"
      },
      "outputs": [],
      "source": [
        "pairs = [\n",
        "    [r\".*(hi|hello|greetings).*\", [\"Hello, This is similify Dental Clinic.How can I help you?\"]],\n",
        "    [r\".*(Tooth ache|Tooth pain|Tooth Decay).*\", [\"Dr. James Anderson 123 Main Street, apt 4B San Diego CA, 91911\"]],\n",
        "    [r\".*Tolerating tooth ache since two days\\. Can i know the timings so that I can book the appointment\\?\", [\"Sure, 6am - 11pm\"]],\n",
        "    [r\".*I want to book the appointment for friday morning\\. Can I know the available timing slot so that I can book\\?\", [\"Sure, 8am-9am, 10am-11am\"]],\n",
        "    [r\".*Ok book the appointment for 10am-11am\", [\"Sure, the appointment for friday 10am-11am is booked. For confirmation you will recieve an SMS on your mobile\"]],\n",
        "    [r\".*Yes I recived\\. Thank you!\", [\"Thanks for using simlify dental services. It is pleasure to serve you.\"]]\n",
        "]\n"
      ]
    },
    {
      "cell_type": "code",
      "execution_count": null,
      "metadata": {
        "id": "Lk-K59rqWcrK"
      },
      "outputs": [],
      "source": [
        "chatbot = Chat(pairs, reflections)"
      ]
    },
    {
      "cell_type": "code",
      "execution_count": null,
      "metadata": {
        "colab": {
          "background_save": true,
          "base_uri": "https://localhost:8080/"
        },
        "id": "GKhofzDHf0xR",
        "outputId": "c85de31a-e415-44cc-ee5e-f26d6d53c3ce"
      },
      "outputs": [
        {
          "name": "stdout",
          "output_type": "stream",
          "text": [
            "Hello, This is similify Dental Clinic.How can I help you?\n",
            "Dr. James Anderson 123 Main Street, apt 4B San Diego CA, 91911\n"
          ]
        }
      ],
      "source": [
        "chatbot.converse()"
      ]
    },
    {
      "cell_type": "code",
      "execution_count": null,
      "metadata": {
        "id": "ppEZXLr-hQrT"
      },
      "outputs": [],
      "source": [
        "from nltk.chat.eliza import eliza_chat"
      ]
    },
    {
      "cell_type": "code",
      "execution_count": null,
      "metadata": {
        "colab": {
          "base_uri": "https://localhost:8080/"
        },
        "id": "zacHIZakhbmO",
        "outputId": "e83cd488-c421-41d8-c89d-f624be51d576"
      },
      "outputs": [
        {
          "name": "stdout",
          "output_type": "stream",
          "text": [
            "Therapist\n",
            "---------\n",
            "Talk to the program by typing in plain English, using normal upper-\n",
            "and lower-case letters and punctuation.  Enter \"quit\" when done.\n",
            "========================================================================\n",
            "Hello.  How are you feeling today?\n",
            ">good\n",
            "Why do you say that good?\n",
            ">quit\n",
            "Good-bye.\n"
          ]
        }
      ],
      "source": [
        "eliza_chat()"
      ]
    }
  ],
  "metadata": {
    "colab": {
      "provenance": []
    },
    "kernelspec": {
      "display_name": "Python 3",
      "name": "python3"
    },
    "language_info": {
      "name": "python"
    }
  },
  "nbformat": 4,
  "nbformat_minor": 0
}